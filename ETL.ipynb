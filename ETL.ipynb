{
 "cells": [
  {
   "cell_type": "code",
   "execution_count": 1,
   "id": "f2d57f33",
   "metadata": {},
   "outputs": [],
   "source": [
    "import pandas as pd\n",
    "import numpy as np \n",
    "import datetime "
   ]
  },
  {
   "cell_type": "code",
   "execution_count": 2,
   "id": "6327fa9b",
   "metadata": {},
   "outputs": [],
   "source": [
    "df = pd.read_csv('Updated_sales_data.csv')"
   ]
  },
  {
   "cell_type": "code",
   "execution_count": 3,
   "id": "95d958d0",
   "metadata": {},
   "outputs": [
    {
     "data": {
      "text/plain": [
       "Order ID            87\n",
       "Product             87\n",
       "Quantity Ordered    87\n",
       "Price Each          87\n",
       "Order Date          87\n",
       "Purchase Address    87\n",
       "dtype: int64"
      ]
     },
     "execution_count": 3,
     "metadata": {},
     "output_type": "execute_result"
    }
   ],
   "source": [
    "# Finding any null values\n",
    "df.isnull().sum()"
   ]
  },
  {
   "cell_type": "code",
   "execution_count": 4,
   "id": "05213597",
   "metadata": {
    "scrolled": true
   },
   "outputs": [],
   "source": [
    "# df"
   ]
  },
  {
   "cell_type": "code",
   "execution_count": 5,
   "id": "b31a4c8e",
   "metadata": {},
   "outputs": [],
   "source": [
    "# Removing the null values\n",
    "cleaned = df.dropna().reset_index()"
   ]
  },
  {
   "cell_type": "code",
   "execution_count": 6,
   "id": "2d0147f4",
   "metadata": {},
   "outputs": [],
   "source": [
    "# cleaned.shape"
   ]
  },
  {
   "cell_type": "code",
   "execution_count": 7,
   "id": "5368e420",
   "metadata": {
    "scrolled": true
   },
   "outputs": [
    {
     "data": {
      "text/plain": [
       "index                int64\n",
       "Order ID            object\n",
       "Product             object\n",
       "Quantity Ordered    object\n",
       "Price Each          object\n",
       "Order Date          object\n",
       "Purchase Address    object\n",
       "dtype: object"
      ]
     },
     "execution_count": 7,
     "metadata": {},
     "output_type": "execute_result"
    }
   ],
   "source": [
    "cleaned.dtypes"
   ]
  },
  {
   "cell_type": "code",
   "execution_count": 8,
   "id": "1511d6a2",
   "metadata": {},
   "outputs": [],
   "source": [
    "# There were duplicates columns names inside the rows, removing them.\n",
    "\n",
    "# 1. create a Boolean mask for the rows to remove\n",
    "mask = cleaned['Price Each'] == 'Price Each'\n",
    "\n",
    "# 2. select all rows except the ones that contain 'Coca Cola'\n",
    "cleaned = cleaned[~mask]\n",
    "\n",
    "# 3. print the resulting DataFrame\n",
    "# print(cleaned)"
   ]
  },
  {
   "cell_type": "code",
   "execution_count": 9,
   "id": "23f65456",
   "metadata": {},
   "outputs": [],
   "source": [
    "# Calculating total sales\n",
    "\n",
    "cleaned['Quantity Ordered'] = cleaned['Quantity Ordered'].astype(int)\n",
    "cleaned['Price Each'] = cleaned['Price Each'].astype(float)\n",
    "\n",
    "cleaned['total_sales'] = cleaned['Quantity Ordered'] * cleaned['Price Each']"
   ]
  },
  {
   "cell_type": "code",
   "execution_count": 10,
   "id": "f6f5203d",
   "metadata": {},
   "outputs": [
    {
     "data": {
      "text/plain": [
       "index                 int64\n",
       "Order ID             object\n",
       "Product              object\n",
       "Quantity Ordered      int64\n",
       "Price Each          float64\n",
       "Order Date           object\n",
       "Purchase Address     object\n",
       "total_sales         float64\n",
       "dtype: object"
      ]
     },
     "execution_count": 10,
     "metadata": {},
     "output_type": "execute_result"
    }
   ],
   "source": [
    "cleaned.dtypes"
   ]
  },
  {
   "cell_type": "code",
   "execution_count": 11,
   "id": "d210bead",
   "metadata": {},
   "outputs": [],
   "source": [
    "# removing duplicated indexes\n",
    "cleaned.drop(columns=cleaned.columns[0], axis=1, inplace=True)"
   ]
  },
  {
   "cell_type": "code",
   "execution_count": 12,
   "id": "907f918d",
   "metadata": {},
   "outputs": [],
   "source": [
    "dates = pd.to_datetime(cleaned['Order Date'], format=\"mixed\")\n",
    "cleaned['Order Date'] = dates\n",
    "# type(dates)"
   ]
  },
  {
   "cell_type": "code",
   "execution_count": 13,
   "id": "9e54c8b1",
   "metadata": {},
   "outputs": [],
   "source": [
    "# creating columns for month and year"
   ]
  },
  {
   "cell_type": "code",
   "execution_count": 14,
   "id": "a479d788",
   "metadata": {},
   "outputs": [],
   "source": [
    "cleaned['Month'] = dates.dt.month\n",
    "cleaned['Year'] = dates.dt.year\n"
   ]
  },
  {
   "cell_type": "code",
   "execution_count": 15,
   "id": "1d420909",
   "metadata": {},
   "outputs": [],
   "source": [
    "monthly_sales = cleaned.groupby(['Product', 'Year', 'Month'])['total_sales'].sum().reset_index()\n",
    "total_sales_by_product = pd.DataFrame(monthly_sales)\n",
    "# total_sales_by_product"
   ]
  },
  {
   "cell_type": "code",
   "execution_count": 22,
   "id": "93801324",
   "metadata": {},
   "outputs": [
    {
     "data": {
      "text/plain": [
       "Order ID                    object\n",
       "Product                     object\n",
       "Quantity Ordered             int64\n",
       "Price Each                 float64\n",
       "Order Date          datetime64[ns]\n",
       "Purchase Address            object\n",
       "total_sales                float64\n",
       "Month                        int32\n",
       "Year                         int32\n",
       "dtype: object"
      ]
     },
     "execution_count": 22,
     "metadata": {},
     "output_type": "execute_result"
    }
   ],
   "source": [
    "# cleaned['total_sales'].sum()\n",
    "cleaned.dtypes\n",
    "# total_sales_by_product"
   ]
  },
  {
   "cell_type": "code",
   "execution_count": null,
   "id": "f4a750d9",
   "metadata": {},
   "outputs": [],
   "source": [
    "# total_sales_by_product.sum()"
   ]
  },
  {
   "cell_type": "code",
   "execution_count": null,
   "id": "5b0c2357",
   "metadata": {},
   "outputs": [],
   "source": [
    "# saving the file in the same working directory\n",
    "cleaned.to_csv('cleaned_data.csv')\n",
    "total_sales_by_product.to_csv('products_sale_by_month.csv')"
   ]
  }
 ],
 "metadata": {
  "kernelspec": {
   "display_name": "Python 3 (ipykernel)",
   "language": "python",
   "name": "python3"
  },
  "language_info": {
   "codemirror_mode": {
    "name": "ipython",
    "version": 3
   },
   "file_extension": ".py",
   "mimetype": "text/x-python",
   "name": "python",
   "nbconvert_exporter": "python",
   "pygments_lexer": "ipython3",
   "version": "3.11.4"
  }
 },
 "nbformat": 4,
 "nbformat_minor": 5
}
