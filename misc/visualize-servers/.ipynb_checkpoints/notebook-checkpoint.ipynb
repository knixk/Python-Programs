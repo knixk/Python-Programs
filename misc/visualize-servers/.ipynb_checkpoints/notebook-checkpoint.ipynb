{
 "cells": [
  {
   "cell_type": "code",
   "execution_count": 1,
   "id": "ca0dcdd1",
   "metadata": {},
   "outputs": [
    {
     "name": "stdout",
     "output_type": "stream",
     "text": [
      "============\n",
      "facebook.com\n"
     ]
    }
   ],
   "source": [
    "from urllib.parse import urlparse\n",
    "import requests\n",
    "import json\n",
    "\n",
    "url = \"https://facebook.com/hello\"\n",
    "try:\n",
    "    html = requests.get(url)\n",
    "except:\n",
    "    print(\"error fetching data..\")\n",
    "\n",
    "\n",
    "print(html.text)\n",
    "# print(html.json())\n",
    "print(\"============\")\n",
    "final_url = urlparse(url).netloc\n",
    "print(final_url)\n",
    "# facebook.com\n",
    "\n"
   ]
  },
  {
   "cell_type": "code",
   "execution_count": null,
   "id": "93853189",
   "metadata": {},
   "outputs": [],
   "source": []
  }
 ],
 "metadata": {
  "kernelspec": {
   "display_name": "Python 3 (ipykernel)",
   "language": "python",
   "name": "python3"
  },
  "language_info": {
   "codemirror_mode": {
    "name": "ipython",
    "version": 3
   },
   "file_extension": ".py",
   "mimetype": "text/x-python",
   "name": "python",
   "nbconvert_exporter": "python",
   "pygments_lexer": "ipython3",
   "version": "3.10.9"
  }
 },
 "nbformat": 4,
 "nbformat_minor": 5
}
