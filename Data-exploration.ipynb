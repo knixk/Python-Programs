{
 "cells": [
  {
   "cell_type": "code",
   "execution_count": 2,
   "id": "ec62dd98-9424-4ee3-924c-6ffe750476d3",
   "metadata": {},
   "outputs": [],
   "source": [
    "import pandas as pd"
   ]
  },
  {
   "cell_type": "code",
   "execution_count": 28,
   "id": "4dfce487-98ef-4f4e-b4f7-914d8c740171",
   "metadata": {},
   "outputs": [],
   "source": [
    "bands = pd.read_csv('data/bands.csv')\n",
    "names = bands.name\n",
    "formed = bands.formed_in\n",
    "# names\n",
    "# bands\n",
    "# type(bands)\n",
    "sum_of_formed = formed.head().sum()\n",
    "# names.head()"
   ]
  },
  {
   "cell_type": "code",
   "execution_count": 4,
   "id": "d0a0ab01-d663-41e2-a495-a15b1789de34",
   "metadata": {},
   "outputs": [],
   "source": [
    "# names.describe\n",
    "# names.index\n"
   ]
  },
  {
   "cell_type": "code",
   "execution_count": 5,
   "id": "ec82d49f-5fc8-4539-9cdc-140b81d6ba9b",
   "metadata": {},
   "outputs": [],
   "source": [
    "titanic = pd.read_csv('data/titanic.csv')\n"
   ]
  },
  {
   "cell_type": "code",
   "execution_count": 13,
   "id": "1882bd83-84d4-4e9d-aea4-5307726dcac5",
   "metadata": {},
   "outputs": [
    {
     "data": {
      "text/plain": [
       "count          10\n",
       "unique          4\n",
       "top       14.4542\n",
       "freq            4\n",
       "Name: fare, dtype: object"
      ]
     },
     "execution_count": 13,
     "metadata": {},
     "output_type": "execute_result"
    }
   ],
   "source": [
    "titanic.fare.tail(10).describe()"
   ]
  },
  {
   "cell_type": "code",
   "execution_count": 14,
   "id": "e51f5380-e614-40d6-91c7-87b1516ec63b",
   "metadata": {},
   "outputs": [
    {
     "data": {
      "text/plain": [
       "dtype('O')"
      ]
     },
     "execution_count": 14,
     "metadata": {},
     "output_type": "execute_result"
    }
   ],
   "source": [
    "titanic.fare.tail(10).dtypes "
   ]
  },
  {
   "cell_type": "code",
   "execution_count": 23,
   "id": "e3849555-52cc-4a5a-b575-49e86540a821",
   "metadata": {},
   "outputs": [],
   "source": [
    "netflix = pd.read_csv('data/netflix_titles.csv', sep = '|')"
   ]
  },
  {
   "cell_type": "code",
   "execution_count": 27,
   "id": "956f7b89-90ea-4542-a5c2-c0068adfe362",
   "metadata": {},
   "outputs": [
    {
     "data": {
      "text/plain": [
       "count    8807.000000\n",
       "mean     2014.180198\n",
       "std         8.819312\n",
       "min      1925.000000\n",
       "25%      2013.000000\n",
       "50%      2017.000000\n",
       "75%      2019.000000\n",
       "max      2021.000000\n",
       "Name: release_year, dtype: float64"
      ]
     },
     "execution_count": 27,
     "metadata": {},
     "output_type": "execute_result"
    }
   ],
   "source": [
    "netflix.release_year.describe()"
   ]
  },
  {
   "cell_type": "code",
   "execution_count": 37,
   "id": "b35d0b67-bec1-49de-83a4-a0e91f976dcf",
   "metadata": {},
   "outputs": [
    {
     "data": {
      "text/plain": [
       "17"
      ]
     },
     "execution_count": 37,
     "metadata": {},
     "output_type": "execute_result"
    }
   ],
   "source": [
    "netflix.rating.nunique(dropna=True)"
   ]
  },
  {
   "cell_type": "code",
   "execution_count": 39,
   "id": "99931990-0c23-448e-8518-20edcb572182",
   "metadata": {
    "scrolled": true
   },
   "outputs": [
    {
     "data": {
      "text/plain": [
       "dtype('O')"
      ]
     },
     "execution_count": 39,
     "metadata": {},
     "output_type": "execute_result"
    }
   ],
   "source": [
    "netflix.rating.unique().dtype"
   ]
  },
  {
   "cell_type": "code",
   "execution_count": 45,
   "id": "9fdc933e-352d-4c90-bf30-06b5354cb9c5",
   "metadata": {},
   "outputs": [
    {
     "data": {
      "text/plain": [
       "summary           86950\n",
       "city              16914\n",
       "state                65\n",
       "date_time         73122\n",
       "shape                21\n",
       "duration           8095\n",
       "stats             88072\n",
       "report_link       88125\n",
       "text              87420\n",
       "posted              387\n",
       "city_latitude     11389\n",
       "city_longitude    11467\n",
       "dtype: int64"
      ]
     },
     "execution_count": 45,
     "metadata": {},
     "output_type": "execute_result"
    }
   ],
   "source": [
    "data = pd.read_csv('data/nuforc_reports.csv')\n",
    "data.nunique()"
   ]
  },
  {
   "cell_type": "code",
   "execution_count": null,
   "id": "238f6e38-81de-483d-bc46-507afbde097a",
   "metadata": {},
   "outputs": [],
   "source": []
  },
  {
   "cell_type": "code",
   "execution_count": null,
   "id": "7b9f5345-a656-4dd4-9203-971ab722af85",
   "metadata": {},
   "outputs": [],
   "source": [
    "    "
   ]
  }
 ],
 "metadata": {
  "kernelspec": {
   "display_name": "Python 3 (ipykernel)",
   "language": "python",
   "name": "python3"
  },
  "language_info": {
   "codemirror_mode": {
    "name": "ipython",
    "version": 3
   },
   "file_extension": ".py",
   "mimetype": "text/x-python",
   "name": "python",
   "nbconvert_exporter": "python",
   "pygments_lexer": "ipython3",
   "version": "3.11.5"
  }
 },
 "nbformat": 4,
 "nbformat_minor": 5
}
